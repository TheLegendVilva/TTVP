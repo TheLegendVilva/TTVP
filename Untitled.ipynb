{
 "cells": [
  {
   "cell_type": "code",
   "execution_count": 1,
   "id": "d4f60718-e4b3-4105-92cd-8c72b371b1e0",
   "metadata": {},
   "outputs": [],
   "source": [
    "import numpy as np\n",
    "import pandas as pd\n",
    "import matplotlib.pyplot as plt\n",
    "import seaborn as sns\n",
    "import warnings\n",
    "warnings.filterwarnings('ignore')\n",
    "from sklearn.model_selection import train_test_split\n",
    "import category_encoders as ce\n",
    "from sklearn.tree import DecisionTreeClassifier\n",
    "from sklearn.metrics import accuracy_score, confusion_matrix, f1_score\n",
    "df = pd.read_csv(\"car.data\", header=None)"
   ]
  },
  {
   "cell_type": "code",
   "execution_count": 2,
   "id": "6f2badaa-4472-4cea-9d68-16b68e16fbaf",
   "metadata": {},
   "outputs": [],
   "source": [
    "df.columns = ['buying', 'maint', 'doors', 'persons', 'lug_boot', 'safety', 'class']\n",
    "df_target, df_train = df.pop('class'),df"
   ]
  },
  {
   "cell_type": "code",
   "execution_count": 3,
   "id": "8a043c78-99da-458b-bce6-ce76fde80348",
   "metadata": {},
   "outputs": [],
   "source": [
    "import category_encoders as ce\n",
    "encoder = ce.OrdinalEncoder(cols=['buying', 'maint', 'doors', 'persons', 'lug_boot', 'safety'])\n",
    "train = encoder.fit_transform(df_train)\n",
    "target = ce.OrdinalEncoder(cols=['class']).fit_transform(df_target)"
   ]
  },
  {
   "cell_type": "code",
   "execution_count": 7,
   "id": "d7cabfb0-375d-4fd0-997d-5c81281131b2",
   "metadata": {},
   "outputs": [
    {
     "name": "stdout",
     "output_type": "stream",
     "text": [
      "acc:  0.9797687861271677\n",
      "f1score:  <function f1_score at 0x7c06831a83a0>\n",
      "acc:  0.9682080924855492\n",
      "f1score:  <function f1_score at 0x7c06831a83a0>\n",
      "acc:  0.9667630057803468\n",
      "f1score:  <function f1_score at 0x7c06831a83a0>\n",
      "acc:  0.9725433526011561\n",
      "f1score:  <function f1_score at 0x7c06831a83a0>\n",
      "acc:  0.9869942196531792\n",
      "f1score:  <function f1_score at 0x7c06831a83a0>\n",
      "acc:  0.9624277456647399\n",
      "f1score:  <function f1_score at 0x7c06831a83a0>\n",
      "acc:  0.9653179190751445\n",
      "f1score:  <function f1_score at 0x7c06831a83a0>\n",
      "acc:  0.9826589595375722\n",
      "f1score:  <function f1_score at 0x7c06831a83a0>\n",
      "acc:  0.9682080924855492\n",
      "f1score:  <function f1_score at 0x7c06831a83a0>\n",
      "acc:  0.9754335260115607\n",
      "f1score:  <function f1_score at 0x7c06831a83a0>\n",
      "acc:  0.9739884393063584\n",
      "f1score:  <function f1_score at 0x7c06831a83a0>\n",
      "acc:  0.9638728323699421\n",
      "f1score:  <function f1_score at 0x7c06831a83a0>\n",
      "acc:  0.9667630057803468\n",
      "f1score:  <function f1_score at 0x7c06831a83a0>\n",
      "acc:  0.9725433526011561\n",
      "f1score:  <function f1_score at 0x7c06831a83a0>\n",
      "acc:  0.9653179190751445\n",
      "f1score:  <function f1_score at 0x7c06831a83a0>\n",
      "acc:  0.9667630057803468\n",
      "f1score:  <function f1_score at 0x7c06831a83a0>\n",
      "acc:  0.9725433526011561\n",
      "f1score:  <function f1_score at 0x7c06831a83a0>\n",
      "acc:  0.9653179190751445\n",
      "f1score:  <function f1_score at 0x7c06831a83a0>\n",
      "acc:  0.9783236994219653\n",
      "f1score:  <function f1_score at 0x7c06831a83a0>\n",
      "acc:  0.9754335260115607\n",
      "f1score:  <function f1_score at 0x7c06831a83a0>\n",
      "Average Accuracy: 0.9714595375722543\n",
      "Average F1-Score: 0.9713854523835017\n"
     ]
    }
   ],
   "source": [
    "accuracies = []\n",
    "f_scores = []\n",
    "\n",
    "# Number of iterations\n",
    "num_iterations = 20\n",
    "\n",
    "for i in range(num_iterations):\n",
    "    X_train_i = []\n",
    "    y_train_i = []\n",
    "    X_test_i = []\n",
    "    y_test_i = []\n",
    "    X_train_i, X_test_i, y_train_i, y_test_i = train_test_split(train, target, test_size=0.4, random_state=i)\n",
    "\n",
    "    # Initialize and train Decision Tree Classifier\n",
    "    classifier = DecisionTreeClassifier(criterion='entropy')\n",
    "    classifier.fit(X_train_i, y_train_i)\n",
    "\n",
    "    # Make predictions\n",
    "    y_pred = classifier.predict(X_test_i)\n",
    "\n",
    "    # Calculate F1-score\n",
    "    f1 = f1_score(y_test_i, y_pred, average='weighted')\n",
    "\n",
    "    # Calculate accuracy from confusion matrix\n",
    "    accuracy = accuracy_score(y_test_i,y_pred)\n",
    "    print(\"acc: \",accuracy)\n",
    "    print(\"f1score: \",f1_score)\n",
    "    # Append accuracy and F1-score to lists\n",
    "    accuracies.append(accuracy)\n",
    "    f_scores.append(f1)\n",
    "\n",
    "# Calculate average accuracy and F1-score\n",
    "avg_accuracy = np.mean(accuracies)\n",
    "avg_f1_score = np.mean(f_scores)\n",
    "\n",
    "print(\"Average Accuracy:\", avg_accuracy)\n",
    "print(\"Average F1-Score:\", avg_f1_score)"
   ]
  },
  {
   "cell_type": "code",
   "execution_count": null,
   "id": "e31ea891-50d0-42ac-976e-a0949c7db9cf",
   "metadata": {},
   "outputs": [],
   "source": []
  }
 ],
 "metadata": {
  "kernelspec": {
   "display_name": "Python 3 (ipykernel)",
   "language": "python",
   "name": "python3"
  },
  "language_info": {
   "codemirror_mode": {
    "name": "ipython",
    "version": 3
   },
   "file_extension": ".py",
   "mimetype": "text/x-python",
   "name": "python",
   "nbconvert_exporter": "python",
   "pygments_lexer": "ipython3",
   "version": "3.10.12"
  }
 },
 "nbformat": 4,
 "nbformat_minor": 5
}
